{
  "nbformat": 4,
  "nbformat_minor": 0,
  "metadata": {
    "colab": {
      "provenance": []
    },
    "kernelspec": {
      "name": "python3",
      "display_name": "Python 3"
    },
    "language_info": {
      "name": "python"
    }
  },
  "cells": [
    {
      "cell_type": "markdown",
      "source": [
        "# Authors:\n",
        "#### Parnian Razavipour | 99101665\n",
        "#### Mobina Salimipanah | 99109788\n",
        "\n",
        "---\n",
        "---"
      ],
      "metadata": {
        "id": "oO20LzMM4kHt"
      }
    },
    {
      "cell_type": "markdown",
      "source": [
        "The provided code consists of two classes (System and Packet) and three helper functions (get_priority, get_packet). Let's go through each part of the code to understand its functionality:\n",
        "\n",
        "1. different ServicePolicies: This string variable defines three service policies: FIFO (First In, First Out), WRR (Weighted Round Robin), and NPPS (Non-Preemptive Priority Scheduling). These can be used to determine the order in which entities in the queue are served.\n",
        "2. Class System: This class represents a queueing system. It has the following attributes:\n",
        "max_capacity,\n",
        "system_population,\n",
        "Y(The service rate parameter).\n",
        "current_time,\n",
        "service_policy,\n",
        "processor_start_times( A list that keeps track of start times of processors (servers))\n",
        "processor_end_times(A list that keeps track of end times of processors (servers))\n",
        "queue.\n",
        "3.Class Packet: This class represents an entity in the queueing system.\n",
        "\n",
        "Function get_priority: This function generates and returns a priority level for an entity based on a random value. The priority level is divided into three ranges: 0, 1, and 2.\n",
        "\n",
        "Function get_packet: This function generates and returns a Packet object with random arrival time, service time, and priority level. It uses the System instance (s) to get the interarrival time and service time\n",
        "\n",
        "\n",
        "\n",
        "\n",
        "\n"
      ],
      "metadata": {
        "id": "BuYwCQxcshaN"
      }
    },
    {
      "cell_type": "code",
      "source": [
        "import numpy as np\n",
        "import matplotlib.pyplot as plt\n",
        "import time\n",
        "import math\n",
        "\n",
        "\n",
        "class System():\n",
        "    def __init__(self,X,Y,max_capacity,service_policy = \"FIFO\", processor_num = 1):\n",
        "        self.max_capacity = max_capacity\n",
        "        self.system_population = 0\n",
        "        self.X = X\n",
        "        self.Y = Y\n",
        "        self.current_time = 0\n",
        "        self.service_policy = service_policy\n",
        "        self.processor_start_times = [0 for i in range(processor_num)]\n",
        "        self.processor_end_times = [0 for i in range(processor_num)]\n",
        "        self.queue = []\n",
        "\n",
        "    def generate_interarrival(self):\n",
        "     return np.random.exponential(scale=1/self.X)\n",
        "\n",
        "    def generate_service_time(self):\n",
        "     return np.random.exponential(scale=1/self.Y)\n",
        "\n",
        "\n",
        "\n",
        "class Packet():\n",
        "    def __init__(self,arrival_time,service_time,priority,queue_time = 0,departure_time = 0):\n",
        "        self.arrival_time = arrival_time\n",
        "        self.service_time = service_time\n",
        "        self.priority = priority\n",
        "        self.queue_time = queue_time\n",
        "        self.departure_time = departure_time\n",
        "        self.start_service = 0"
      ],
      "metadata": {
        "id": "mbJAwe417evh"
      },
      "execution_count": null,
      "outputs": []
    },
    {
      "cell_type": "code",
      "source": [
        "def get_priority():\n",
        "    r = np.random.uniform(0.0, 1.0)\n",
        "    if r < 0.5:\n",
        "        return 0\n",
        "    if r < 0.8:\n",
        "        return 1\n",
        "    else:\n",
        "        return 2\n",
        "\n",
        "def get_packet(s):\n",
        "    s.current_time = round(s.current_time + s.generate_interarrival(),3)\n",
        "    packet = Packet(arrival_time = s.current_time,\n",
        "                    service_time = s.generate_service_time()\n",
        "                    ,priority = get_priority())\n",
        "    return packet\n",
        "\n",
        "def create_packet_list(X, Y, max_capacity, service_policy):\n",
        "    s = System(X=X, Y=Y, max_capacity=max_capacity, service_policy=service_policy, processor_num=PROCESSORS_NUM)\n",
        "    packet_list = [Packet(arrival_time=0, service_time=s.generate_service_time(), priority=get_priority())]\n",
        "    while s.current_time < T:\n",
        "        packet_list.append(get_packet(s))\n",
        "    s.current_time = 0\n",
        "    return packet_list, s"
      ],
      "metadata": {
        "id": "zf8NdnnLDTcd"
      },
      "execution_count": null,
      "outputs": []
    },
    {
      "cell_type": "markdown",
      "source": [
        "---\n",
        "# FIFO\n",
        "\n",
        "**run_FIFO:** This function runs a simulation using the FIFO (First In, First Out) service policy. It creates the packet list and the System object using the create_packet_list function, and then calls the update_queue_and_processor function to update the queue and processor states. Finally, it calls the print_results function to display the simulation results."
      ],
      "metadata": {
        "id": "QOfJEkJLzgnp"
      }
    },
    {
      "cell_type": "code",
      "execution_count": null,
      "metadata": {
        "id": "UxqUdXPYsvW_"
      },
      "outputs": [],
      "source": [
        "def update_queue_and_processor(packet_list, s):\n",
        "    drop_list = []\n",
        "    total_busy_time = [0 for _ in range(PROCESSORS_NUM)]\n",
        "    total_time_spent_in_queue = 0\n",
        "    high_priority_list = []\n",
        "\n",
        "    for i in range(len(packet_list)):\n",
        "        min_end = float('inf')\n",
        "        min_idx = 0\n",
        "        for j in range(PROCESSORS_NUM):\n",
        "            if s.processor_end_times[j] < min_end:\n",
        "                min_end = s.processor_end_times[j]\n",
        "                min_idx = j\n",
        "            if packet_list[i].arrival_time >= s.processor_end_times[j]:\n",
        "                s.processor_start_times[j] = packet_list[i].arrival_time\n",
        "                s.processor_end_times[j] = round(s.processor_start_times[j] + packet_list[i].service_time, 3)\n",
        "                total_busy_time[j] = total_busy_time[j] + max(0, min(T - s.processor_start_times[min_idx], packet_list[i].service_time))\n",
        "                packet_list[i].departure_time =  s.processor_end_times[j]\n",
        "                if packet_list[i].priority == 2:\n",
        "                    high_priority_list.append(packet_list[i].queue_time)\n",
        "                break\n",
        "        else:\n",
        "            hold = []\n",
        "            for k in range(len(s.queue)):\n",
        "                if packet_list[i].arrival_time > s.queue[k].queue_time + s.queue[k].arrival_time:\n",
        "                    hold.append(k)\n",
        "                    s.system_population -= 1\n",
        "            for k in range(len(hold)):\n",
        "                s.queue.pop(0)\n",
        "            if s.max_capacity == s.system_population:\n",
        "                drop_list.append(packet_list[i])\n",
        "            else:\n",
        "                packet_list[i].queue_time = round(s.processor_end_times[min_idx] - packet_list[i].arrival_time, 3)\n",
        "                total_time_spent_in_queue += packet_list[i].queue_time\n",
        "                s.processor_start_times[min_idx] = s.processor_end_times[min_idx]\n",
        "                s.processor_end_times[min_idx] = round(s.processor_start_times[min_idx] + packet_list[i].service_time, 3)\n",
        "                packet_list[i].departure_time = s.processor_end_times[min_idx]\n",
        "                total_busy_time[min_idx] = total_busy_time[min_idx] + max(0, min(T - s.processor_start_times[min_idx], packet_list[i].service_time))\n",
        "                s.queue.append(packet_list[i])\n",
        "                s.system_population += 1\n",
        "                if packet_list[i].priority == 2:\n",
        "                    high_priority_list.append(packet_list[i].queue_time)\n",
        "\n",
        "    return total_busy_time, total_time_spent_in_queue, drop_list, high_priority_list\n",
        "\n",
        "def print_results(total_busy_time, total_time_spent_in_queue, drop_list, high_priority_list, packet_list):\n",
        "    print(\"Average queue length = \",  total_time_spent_in_queue / T)\n",
        "    print(\"Average time spent in queue = \", total_time_spent_in_queue / len(packet_list))\n",
        "    for i in range(len(total_busy_time)):\n",
        "        print(\"Server Utilization of server\", i,\" = \", total_busy_time[i]/T)\n",
        "    print(\"Number of dropped packets = \", len(drop_list))\n",
        "\n",
        "    if high_priority_list:\n",
        "        high_priority_array = np.array(high_priority_list, dtype=float)\n",
        "        cdf = np.cumsum(np.histogram(high_priority_array, bins=len(high_priority_array), range=(min(high_priority_array), max(high_priority_array)))[0]) / len(high_priority_array)\n",
        "        plt.plot(np.arange(1, len(cdf)+1), cdf)\n",
        "        plt.xlabel('Value')\n",
        "        plt.ylabel('CDF')\n",
        "        plt.title('CDF of queue time for high priority packets (FIFO)')\n",
        "        plt.show()\n",
        "\n",
        "def run_FIFO(X,Y):\n",
        "    packet_list, s = create_packet_list(X,Y,sum(LENGTH_LIMIT),\"FIFO\" )\n",
        "    total_busy_time, total_time_spent_in_queue, drop_list, high_priority_list = update_queue_and_processor(packet_list, s)\n",
        "    print_results(total_busy_time, total_time_spent_in_queue, drop_list, high_priority_list, packet_list)"
      ]
    },
    {
      "cell_type": "code",
      "source": [
        "PROCESSORS_NUM = 2\n",
        "queue_numbers = 1\n",
        "\n",
        "\n",
        "X = 25 #Poisson parameter\n",
        "Y = 10 #Exp parameter\n",
        "T = 5 #Simulation time\n",
        "LENGTH_LIMIT = [5 for j in range(queue_numbers)]\n",
        "run_FIFO(X, Y)"
      ],
      "metadata": {
        "id": "vEk1UG_98Nw6",
        "colab": {
          "base_uri": "https://localhost:8080/",
          "height": 559
        },
        "outputId": "25fcf6d7-a87b-4624-ee8a-9ed1c7b005f1"
      },
      "execution_count": null,
      "outputs": [
        {
          "output_type": "stream",
          "name": "stdout",
          "text": [
            "Average queue length =  2.9636000000000005\n",
            "Average time spent in queue =  0.10816058394160585\n",
            "Server Utilization of server 0  =  0.9632965357910349\n",
            "Server Utilization of server 1  =  0.9329556653199376\n",
            "Number of dropped packets =  28\n"
          ]
        },
        {
          "output_type": "display_data",
          "data": {
            "text/plain": [
              "<Figure size 640x480 with 1 Axes>"
            ],
            "image/png": "[encoded data removed]"
          },
          "metadata": {}
        }
      ]
    },
    {
      "cell_type": "markdown",
      "source": [
        "---\n",
        "#NPPS\n",
        "\n",
        "The NPPS (Non-Preemptive Priority Scheduling) policy focuses on determining the entry and exit times for packets in the queue. The packets are sorted based on arrival times in a list. When processing each packet, we check if there is available capacity in the system. If there is, we calculate the departure time and add it to the list. If the system is at capacity during packet arrival, the packet can either join the queue or be dropped. If there is a queue and an exit time is being checked, data is transferred from the queue to the server. If no queue exists at that moment, the check is ignored. This implementation effectively handles packet entry and exit times considering priorities and system capacity limitations."
      ],
      "metadata": {
        "id": "8EQ--Wih9ZAE"
      }
    },
    {
      "cell_type": "code",
      "source": [
        "\n",
        "def update_queue_and_processor_npps(packet_list, s):\n",
        "    drop_list = []\n",
        "    total_busy_time = [0 for _ in range(PROCESSORS_NUM)]\n",
        "    high_priority_list = []\n",
        "    N = len(packet_list)\n",
        "    t = 0\n",
        "    processors_status = [False for j in range(PROCESSORS_NUM)]\n",
        "    min_end_time = float('inf')\n",
        "    count = 1\n",
        "    t_list = [p.arrival_time for p in packet_list]\n",
        "    total_time_spent_in_queue = 0\n",
        "\n",
        "    while t < T:\n",
        "        queue_packet = None\n",
        "        p = None\n",
        "        t = t_list.pop(0)\n",
        "        if packet_list and t == packet_list[0].arrival_time:\n",
        "            p = packet_list.pop(0)\n",
        "        is_any_server_ready = False\n",
        "\n",
        "        for j in range(PROCESSORS_NUM):\n",
        "            if t >= s.processor_end_times[j]:\n",
        "                processors_status[j] = False\n",
        "                is_any_server_ready = True\n",
        "\n",
        "        if is_any_server_ready and s.queue:\n",
        "            queue_packet = s.queue.pop(0)\n",
        "        if queue_packet != None:\n",
        "            p = queue_packet\n",
        "        if not p:\n",
        "            continue\n",
        "\n",
        "        count += 1\n",
        "        for j in range(PROCESSORS_NUM):\n",
        "            if not processors_status[j]:\n",
        "                p.start_service = t\n",
        "                if p.arrival_time > p.start_service:\n",
        "                    break\n",
        "                p.departure_time = round(t + p.service_time,3)\n",
        "                p.queue_time = p.start_service - p.arrival_time\n",
        "                total_time_spent_in_queue += p.queue_time\n",
        "                total_busy_time[j] = total_busy_time[j] + max(0,min(T - p.start_service,p.service_time))\n",
        "                if p.priority == 2:\n",
        "                    high_priority_list.append(p.queue_time)\n",
        "                s.processor_end_times[j] = p.departure_time\n",
        "                processors_status[j] = True\n",
        "                t_list.append(p.departure_time)\n",
        "                t_list = sorted(t_list)\n",
        "                break\n",
        "        else:\n",
        "            if len(s.queue) == s.max_capacity:\n",
        "                drop_list.append(p)\n",
        "            else:\n",
        "                s.queue.append(p)\n",
        "                s.queue = give_priority_in_queue(s,p)\n",
        "\n",
        "    return total_busy_time, total_time_spent_in_queue, drop_list, high_priority_list, N\n",
        "\n",
        "def give_priority_in_queue(s,packet):\n",
        "    for i in range(len(s.queue)-1,-1,-1):\n",
        "        if packet.priority > s.queue[i].priority:\n",
        "            s.queue[i+1], s.queue[i] = s.queue[i], s.queue[i+1]\n",
        "\n",
        "    return s.queue\n",
        "\n",
        "def run_NPPS(X, Y):\n",
        "    packet_list, s = create_packet_list(X, Y, sum(LENGTH_LIMIT), \"NPPS\")\n",
        "    total_busy_time, total_time_spent_in_queue, drop_list, high_priority_list, N = update_queue_and_processor_npps(packet_list, s)\n",
        "    print(\"Average queue length = \", total_time_spent_in_queue / T)\n",
        "    print(\"Average time spent in queue = \", total_time_spent_in_queue / N)\n",
        "    for i in range(len(total_busy_time)):\n",
        "        print(\"Server Utilization of server\", i, \" = \", total_busy_time[i] / T)\n",
        "    print(\"Number of dropped packets = \", len(drop_list))\n",
        "    high_priority_array = np.array(high_priority_list, dtype=float)\n",
        "    cdf = np.cumsum(np.histogram(high_priority_array, bins=len(high_priority_array), range=(min(high_priority_array), max(high_priority_array)))[0]) / len(high_priority_array)\n",
        "    plt.plot(np.arange(1, len(cdf) + 1), cdf, color='orange')  # Set the color to orange\n",
        "    plt.xlabel('Value')\n",
        "    plt.ylabel('CDF')\n",
        "    plt.title('CDF of queue time for high priority packets (NPPS)')\n",
        "    plt.show()\n"
      ],
      "metadata": {
        "id": "rF6RL40SPOEx"
      },
      "execution_count": null,
      "outputs": []
    },
    {
      "cell_type": "code",
      "source": [
        "PROCESSORS_NUM = 2\n",
        "queue_numbers = 1\n",
        "\n",
        "X = 25 #Poisson parameter\n",
        "Y = 10 #Exp parameter\n",
        "T = 5 #Simulation time\n",
        "LENGTH_LIMIT = [5 for j in range(queue_numbers)]\n",
        "\n",
        "run_NPPS(X,Y)"
      ],
      "metadata": {
        "colab": {
          "base_uri": "https://localhost:8080/",
          "height": 559
        },
        "id": "yWxmLVvEB5BX",
        "outputId": "b2bbe6a6-3ac5-4bef-8c21-45b957cba2e5"
      },
      "execution_count": null,
      "outputs": [
        {
          "output_type": "stream",
          "name": "stdout",
          "text": [
            "Average queue length =  2.6948\n",
            "Average time spent in queue =  0.10693650793650794\n",
            "Server Utilization of server 0  =  0.9494386075426539\n",
            "Server Utilization of server 1  =  0.9037316923058112\n",
            "Number of dropped packets =  22\n"
          ]
        },
        {
          "output_type": "display_data",
          "data": {
            "text/plain": [
              "<Figure size 640x480 with 1 Axes>"
            ],
            "image/png": "[encoded data removed]"
          },
          "metadata": {}
        }
      ]
    },
    {
      "cell_type": "markdown",
      "source": [
        "---\n",
        "#WRR"
      ],
      "metadata": {
        "id": "2utO-toc_saC"
      }
    },
    {
      "cell_type": "markdown",
      "source": [
        "In the implementation of the Weighted Round Robin (WRR) method, the queueing system consists of three different queues: one for low priority packets, one for medium priority packets, and one for high priority packets. The probabilities of creating packets with different priorities are as follows: 0.5 for low priority, 0.3 for medium priority, and 0.2 for high priority.\n",
        "\n",
        "In the WRR method, when a server becomes idle and is ready to work, it removes packets from the queues in a specific order based on their priorities. Higher priority packets are removed first, followed by medium priority packets, and finally low priority packets. In this implementation, a fixed ratio of 5 high priority packets, 3 medium priority packets, and 2 low priority packets is selected for removal. If a certain type of packet is not found in the queue, the system proceeds to the next priority level and tries to remove packets from that queue.\n",
        "\n",
        "This approach ensures that high priority packets are served with higher precedence, followed by medium priority packets, and finally low priority packets. The WRR method allows for differentiated service based on packet priority, ensuring that more critical packets receive timely processing and reducing the waiting time for high priority traffic."
      ],
      "metadata": {
        "id": "jT8utebBFdZL"
      }
    },
    {
      "cell_type": "code",
      "source": [
        "def run_WRR(X,Y,queue_weights=[5,3,2]):\n",
        "    s = System(X=X,Y=Y,max_capacity=sum(LENGTH_LIMIT),processor_num=PROCESSORS_NUM)\n",
        "    start_time = time.time()\n",
        "\n",
        "    #WRR\n",
        "    idle_time_of_server = [0,0,0]\n",
        "    final_packet_list = []\n",
        "    packet_list = []\n",
        "    drop_list = []\n",
        "    packet_list.append(Packet(arrival_time = 0, service_time=s.generate_service_time(), priority=get_priority()))\n",
        "    total_busy_time = [0 for _ in range(PROCESSORS_NUM)]\n",
        "    total_time_spent_in_queue = 0\n",
        "    spent_time_in_queue_for_each_priority = [0,0,0]\n",
        "    high_priority_list = []\n",
        "    while s.current_time < T:\n",
        "        packet_list.append(get_packet(s))\n",
        "    s.current_time = 0\n",
        "\n",
        "    three_separated_queues = [[] for i in range(3)]\n",
        "    for i in range(len(packet_list)):\n",
        "        packet_list[i].already_added = False\n",
        "\n",
        "    counter_task = 0\n",
        "    previous_time_a_server_finished = -1\n",
        "    previous_final_packet_length = len(final_packet_list)\n",
        "    continue_simulating = True\n",
        "    while continue_simulating:\n",
        "        min_end = float('inf')\n",
        "        min_idx = 0\n",
        "        for j in range(PROCESSORS_NUM):\n",
        "            if s.processor_end_times[j] < min_end:\n",
        "                min_end = s.processor_end_times[j]\n",
        "                min_idx = j\n",
        "        for i in range(len(packet_list)):\n",
        "            if not packet_list[i].already_added:\n",
        "                if previous_time_a_server_finished < packet_list[i].arrival_time <= min_end:\n",
        "                    packet_list[i].already_added = True\n",
        "\n",
        "                    if len(three_separated_queues[packet_list[i].priority]) < LENGTH_LIMIT[packet_list[i].priority]:\n",
        "                        three_separated_queues[packet_list[i].priority].append(packet_list[i])\n",
        "                    else:\n",
        "                        drop_list.append(packet_list[i])\n",
        "        previous_time_a_server_finished = min_end\n",
        "\n",
        "\n",
        "\n",
        "        counter_task += 1\n",
        "        which_queue_to_pick_weight_counter = counter_task\n",
        "        while which_queue_to_pick_weight_counter > queue_weights[0] + queue_weights[1] + queue_weights[2]:\n",
        "            which_queue_to_pick_weight_counter -= (queue_weights[0] + queue_weights[1] + queue_weights[2])\n",
        "        if which_queue_to_pick_weight_counter <= queue_weights[0] + queue_weights[1] + queue_weights[2] and which_queue_to_pick_weight_counter > queue_weights[0] + queue_weights[1]:\n",
        "            if len(three_separated_queues[2]) >= 1:\n",
        "                final_packet_list.append(three_separated_queues[2][0])\n",
        "                three_separated_queues[2].pop(0)\n",
        "            else:\n",
        "                counter_task = (queue_weights[0] + queue_weights[1] + queue_weights[2]) * (counter_task // (queue_weights[0] + queue_weights[1] + queue_weights[2])) + 1\n",
        "                if len(three_separated_queues[0]) >= 1:\n",
        "                    final_packet_list.append(three_separated_queues[0][0])\n",
        "                    three_separated_queues[0].pop(0)\n",
        "                else:\n",
        "                    counter_task = (queue_weights[0] + queue_weights[1] + queue_weights[2]) * (counter_task // (queue_weights[0] + queue_weights[1] + queue_weights[2])) + queue_weights[0] + queue_weights[1] + 1\n",
        "                    if len(three_separated_queues[1]) >= 1:\n",
        "                        final_packet_list.append(three_separated_queues[1][0])\n",
        "                        three_separated_queues[1].pop(0)\n",
        "                    else:\n",
        "                        counter_task = (queue_weights[0] + queue_weights[1] + queue_weights[2]) * (counter_task // (queue_weights[0] + queue_weights[1] + queue_weights[2])) + queue_weights[0]+queue_weights[1]+queue_weights[2]\n",
        "\n",
        "        elif which_queue_to_pick_weight_counter <= queue_weights[0] + queue_weights[1] and which_queue_to_pick_weight_counter > queue_weights[0]:\n",
        "            if len(three_separated_queues[1]) >= 1:\n",
        "                final_packet_list.append(three_separated_queues[1][0])\n",
        "                three_separated_queues[1].pop(0)\n",
        "            else:\n",
        "                counter_task = (queue_weights[0] + queue_weights[1] + queue_weights[2]) * (counter_task // (queue_weights[0] + queue_weights[1] + queue_weights[2])) + queue_weights[0]+queue_weights[1]+1\n",
        "                if len(three_separated_queues[2]) >= 1:\n",
        "                    final_packet_list.append(three_separated_queues[2][0])\n",
        "                    three_separated_queues[2].pop(0)\n",
        "                else:\n",
        "                    counter_task = (queue_weights[0] + queue_weights[1] + queue_weights[2]) * (counter_task // (queue_weights[0] + queue_weights[1] + queue_weights[2])) + queue_weights[0]+queue_weights[1]+queue_weights[2]+1\n",
        "                    if len(three_separated_queues[0]) >= 1:\n",
        "                        final_packet_list.append(three_separated_queues[0][0])\n",
        "                        three_separated_queues[0].pop(0)\n",
        "                    else:\n",
        "                        counter_task = (queue_weights[0] + queue_weights[1] + queue_weights[2]) * (counter_task // (queue_weights[0] + queue_weights[1] + queue_weights[2])) + queue_weights[0]+queue_weights[1]+queue_weights[2]\n",
        "                        ############\n",
        "        elif which_queue_to_pick_weight_counter <= queue_weights[0]:\n",
        "            if len(three_separated_queues[0]) >= 1:\n",
        "                final_packet_list.append(three_separated_queues[0][0])\n",
        "                three_separated_queues[0].pop(0)\n",
        "            else:\n",
        "                counter_task = (queue_weights[0] + queue_weights[1] + queue_weights[2]) * (counter_task // (queue_weights[0] + queue_weights[1] + queue_weights[2])) + queue_weights[0]+1\n",
        "                if len(three_separated_queues[1]) >= 1:\n",
        "                    final_packet_list.append(three_separated_queues[1][0])\n",
        "                    three_separated_queues[1].pop(0)\n",
        "                else:\n",
        "                    counter_task = (queue_weights[0] + queue_weights[1] + queue_weights[2]) * (counter_task // (queue_weights[0] + queue_weights[1] + queue_weights[2])) + queue_weights[0]+queue_weights[1]+1\n",
        "                    if len(three_separated_queues[2]) >= 1:\n",
        "                        final_packet_list.append(three_separated_queues[2][0])\n",
        "                        three_separated_queues[2].pop(0)\n",
        "                    else:\n",
        "                        counter_task = (queue_weights[0] + queue_weights[1] + queue_weights[2]) * (counter_task // (queue_weights[0] + queue_weights[1] + queue_weights[2])) + queue_weights[0]+queue_weights[1]+queue_weights[2]\n",
        "\n",
        "        if len(final_packet_list) > previous_final_packet_length:\n",
        "            current_packet = final_packet_list[len(final_packet_list)-1] # server index = min_idx\n",
        "            previous_final_packet_length = len(final_packet_list)\n",
        "            current_packet.queue_time = round(max(0,s.processor_end_times[min_idx] - current_packet.arrival_time), 3)\n",
        "            total_time_spent_in_queue += current_packet.queue_time\n",
        "            spent_time_in_queue_for_each_priority[current_packet.priority] += current_packet.queue_time\n",
        "            s.processor_start_times[min_idx] = s.processor_end_times[min_idx]\n",
        "            s.processor_end_times[min_idx] = round(s.processor_start_times[min_idx] + current_packet.service_time, 3)\n",
        "            current_packet.departure_time = s.processor_end_times[min_idx]\n",
        "            total_busy_time[min_idx] = total_busy_time[min_idx] + max(0, min(T - s.processor_start_times[min_idx], current_packet.service_time))\n",
        "            if current_packet.priority == 2:\n",
        "                high_priority_list.append(current_packet.queue_time)\n",
        "\n",
        "        else:\n",
        "\n",
        "            first_index = -1\n",
        "            for i in range(len(packet_list)):\n",
        "                if min_end <= packet_list[i].arrival_time and first_index == -1 and (packet_list[i].already_added == False):\n",
        "                    first_index = i\n",
        "            if first_index == -1:\n",
        "                continue_simulating =  False\n",
        "                for sth in range(PROCESSORS_NUM):\n",
        "                    idle_time_of_server[sth] += (T - s.processor_end_times[sth])\n",
        "            else:\n",
        "                idle_time_of_server[min_idx] += (packet_list[first_index].arrival_time - s.processor_end_times[min_idx])\n",
        "                s.processor_end_times[min_idx] = packet_list[first_index].arrival_time\n",
        "\n",
        "    print(\"Average queue length = \",  total_time_spent_in_queue / T)\n",
        "    print(\"Average time spent in queue = \", total_time_spent_in_queue / len(packet_list))\n",
        "    for i in range(3):\n",
        "        if i == 0:\n",
        "            string_in_output = 'low'\n",
        "        elif i == 1:\n",
        "            string_in_output = 'medium'\n",
        "        else:\n",
        "            string_in_output = 'high'\n",
        "        print(\"(For Priority \", string_in_output, \") Average queue length = \", spent_time_in_queue_for_each_priority[i]/T)\n",
        "        print(\"(For Priority \", string_in_output, \") Average time spent in queue = \", spent_time_in_queue_for_each_priority[i] / len(packet_list))\n",
        "    for i in range(len(total_busy_time)):\n",
        "        print(\"Server Utilization of server\", i,\" = \", total_busy_time[i]/T)\n",
        "    print(\"Number of dropped packets = \", len(drop_list))\n",
        "    high_priority_array = np.array(high_priority_list, dtype=float)\n",
        "    cdf = np.cumsum(np.histogram(high_priority_array, bins=len(high_priority_array), range=(min(high_priority_array), max(high_priority_array)))[0]) / len(high_priority_array)\n",
        "    plt.plot(np.arange(1, len(cdf)+1), cdf, color='pink')\n",
        "    plt.xlabel('Value')\n",
        "    plt.ylabel('CDF')\n",
        "    plt.title('CDF of queue time for high priority packets (WRR)')\n",
        "    plt.show()"
      ],
      "metadata": {
        "id": "9k_n7-n3v7Bw"
      },
      "execution_count": null,
      "outputs": []
    },
    {
      "cell_type": "code",
      "source": [
        "PROCESSORS_NUM = 2\n",
        "queue_numbers = 3\n",
        "\n",
        "X = 25 #Poisson parameter\n",
        "Y = 10 #Exp parameter\n",
        "T = 5 #Simulation time\n",
        "LENGTH_LIMIT = [5 for j in range(queue_numbers)]\n",
        "\n",
        "run_WRR(X,Y)"
      ],
      "metadata": {
        "colab": {
          "base_uri": "https://localhost:8080/",
          "height": 663
        },
        "id": "b7VhrJviCFnL",
        "outputId": "9495ff3d-66f2-4fc5-a3b7-8f4416f307aa"
      },
      "execution_count": null,
      "outputs": [
        {
          "output_type": "stream",
          "name": "stdout",
          "text": [
            "Average queue length =  5.722200000000002\n",
            "Average time spent in queue =  0.23645454545454553\n",
            "(For Priority  low ) Average queue length =  2.1064\n",
            "(For Priority  low ) Average time spent in queue =  0.08704132231404957\n",
            "(For Priority  medium ) Average queue length =  1.6522000000000001\n",
            "(For Priority  medium ) Average time spent in queue =  0.06827272727272728\n",
            "(For Priority  high ) Average queue length =  1.9635999999999996\n",
            "(For Priority  high ) Average time spent in queue =  0.08114049586776857\n",
            "Server Utilization of server 0  =  0.9942740247430442\n",
            "Server Utilization of server 1  =  0.9608005346323502\n",
            "Number of dropped packets =  14\n"
          ]
        },
        {
          "output_type": "display_data",
          "data": {
            "text/plain": [
              "<Figure size 640x480 with 1 Axes>"
            ],
            "image/png": "[encoded data removed]"
          },
          "metadata": {}
        }
      ]
    },
    {
      "cell_type": "markdown",
      "source": [
        "**which of the routing policies in routers is more logical and Is it more appropriate to use it as a service policy?**\n",
        "By repeating the test with different parameters and running the program, it can be seen that in almost all tests, the number of drops for fifo is less than the other two methods, and it can be concluded that this implementation is a better policy than the other two."
      ],
      "metadata": {
        "id": "G8P6jj_PFmy7"
      }
    },
    {
      "cell_type": "markdown",
      "source": [
        "**increasing the efficiency of the system**\n",
        ":To increase the efficiency of a queueing system, there are several approaches that can be taken:\n",
        "\n",
        "1. **Adding more servers**: Increasing the number of servers can help reduce waiting times and improve overall system performance. With more servers, there is a higher capacity to handle incoming requests, resulting in shorter queue lengths and reduced waiting times for customers.\n",
        "\n",
        "2. **Optimizing the queue policy**: The choice of queue policy, such as First In, First Out (FIFO), Priority-based, or Round Robin, can have a significant impact on system efficiency. Selecting the most appropriate queue policy based on the system requirements and characteristics can improve service levels and reduce waiting times for higher-priority requests.\n",
        "\n",
        "3. **Optimizing packet arrival rate and service time distribution**: Analyzing and optimizing the arrival rate of packets and the service time distribution can help ensure a better balance between incoming requests and server capacity. By adjusting these parameters, the system can be fine-tuned to handle fluctuations in demand more effectively and reduce resource wastage.\n",
        "\n",
        "4. **Implementing a more efficient event queue**: The event queue, which manages the order of events in the simulation, plays a crucial role in system efficiency. Optimizing the event queue data structure and algorithms can improve the performance of event handling and reduce the overall simulation time.\n",
        "\n",
        "5. **Implementing parallel processing**: If the system allows for parallel processing, distributing the workload across multiple processors or threads can enhance system efficiency. This approach can enable concurrent processing of multiple requests, reducing the overall response time and improving system throughput.\n",
        "\n",
        "The choice of optimization strategy will depend on the specific characteristics of the queueing system, such as arrival patterns, service requirements, and performance objectives. A comprehensive analysis of the system's behavior and careful consideration of these factors will help identify the most effective approaches to increase system efficiency."
      ],
      "metadata": {
        "id": "Tgo839z_GR7o"
      }
    },
    {
      "cell_type": "code",
      "source": [],
      "metadata": {
        "id": "vNpxRctrGatK"
      },
      "execution_count": null,
      "outputs": []
    }
  ]
}